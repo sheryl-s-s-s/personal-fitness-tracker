{
 "cells": [
  {
   "cell_type": "code",
   "execution_count": 8,
   "id": "d794c306-3fd0-4d56-b52a-de9f2c93ca1b",
   "metadata": {},
   "outputs": [
    {
     "name": "stdout",
     "output_type": "stream",
     "text": [
      "Database created and ready!\n"
     ]
    }
   ],
   "source": [
    "import customtkinter as ctk\n",
    "import sqlite3\n",
    "from tkinter import messagebox\n",
    "\n",
    "conn =sqlite3.connect('fitness_tracker.db')\n",
    "cursor =conn.cursor()\n",
    "\n",
    "cursor.execute(\"\"\"\n",
    "CREATE TABLE IF NOT EXISTS exercises(\n",
    "    exercise_id INTEGER PRIMARY KEY AUTOINCREMENT,\n",
    "    exercise TEXT,\n",
    "    duration INTEGER,\n",
    "    type TEXT,\n",
    "    completed INTEGER,\n",
    "    intensity TEXT,\n",
    "    date TEXT\n",
    ")\n",
    "\"\"\")\n",
    "\n",
    "conn.commit()\n",
    "conn.close()\n",
    "print(\"Database created and ready!\")\n",
    "    "
   ]
  },
  {
   "cell_type": "code",
   "execution_count": null,
   "id": "d04260ee-4c00-4c16-9af4-e6925cf7c749",
   "metadata": {},
   "outputs": [],
   "source": []
  }
 ],
 "metadata": {
  "kernelspec": {
   "display_name": "Python [conda env:base] *",
   "language": "python",
   "name": "conda-base-py"
  },
  "language_info": {
   "codemirror_mode": {
    "name": "ipython",
    "version": 3
   },
   "file_extension": ".py",
   "mimetype": "text/x-python",
   "name": "python",
   "nbconvert_exporter": "python",
   "pygments_lexer": "ipython3",
   "version": "3.12.4"
  }
 },
 "nbformat": 4,
 "nbformat_minor": 5
}
