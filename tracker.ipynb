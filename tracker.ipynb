{
 "cells": [
  {
   "cell_type": "code",
   "execution_count": null,
   "id": "b1c7185c-9575-466d-8754-3ea7d76f94eb",
   "metadata": {},
   "outputs": [
    {
     "name": "stdout",
     "output_type": "stream",
     "text": [
      "Requirement already satisfied: customtkinter in c:\\users\\sheryl\\anaconda3\\lib\\site-packages (5.2.2)\n",
      "Requirement already satisfied: darkdetect in c:\\users\\sheryl\\anaconda3\\lib\\site-packages (from customtkinter) (0.8.0)\n",
      "Requirement already satisfied: packaging in c:\\users\\sheryl\\anaconda3\\lib\\site-packages (from customtkinter) (23.2)\n"
     ]
    }
   ],
   "source": [
    "import sys\n",
    "!{sys.executable} -m pip install customtkinter \n",
    "import customtkinter as ctk\n",
    "def save_data():\n",
    "    print(\"Exercise:\",exercise_entry.get())\n",
    "    print(\"Duration:\",duration_entry.get())\n",
    "    print(\"Type:\",type_entry.get())\n",
    "    print(\"Completed:\",completed_var.get())\n",
    "    print(\"Intensity:\",intensity.get())\n",
    "    print(\"Date:\",date_entry.get())\n",
    "    print(\"Gains recorded\")\n",
    "    \n",
    "tracker=customtkinter.CTk()\n",
    "tracker.geometry(\"500x500\")\n",
    "tracker.title(\"Exercise tracker\")\n",
    "\n",
    "lbl_exercise =ctk.CTkLabel(tracker,text=\"Exercise Name\")\n",
    "lbl_exercise.grid(row=0,column=0,padx=10,pady=10,sticky=\"e\")\n",
    "exercise_entry=ctk.CTkEntry(tracker,placeholder_text=\"eg.Pushups\")\n",
    "exercise_entry.grid(row=0,column=1,padx=20,pady=10)\n",
    "\n",
    "lbl_duration=ctk.CTkLabel(tracker,text=\"Duration(minutes)\")\n",
    "lbl_duration.grid(row=1,column=0,padx=10,pady=10,sticky=\"e\")\n",
    "duration_entry=ctk.CTkEntry(tracker,placeholder_text=\"eg.30\")\n",
    "duration_entry.grid(row=1,column=1,padx=20,pady=10)\n",
    "\n",
    "lbl_type=ctk.CTkLabel(tracker,text=\"Exercise Type\")\n",
    "lbl_type.grid(row=2,column=0,padx=10,pady=10,sticky=\"e\")\n",
    "type_entry=ctk.StringVar(value=\"Strength\")\n",
    "type_entry=ctk.CTkOptionMenu(tracker,values=[\"Cardio\",\"Strength\",\"Yoga\",\"Other\"],variable=type_entry)\n",
    "type_entry.grid(row=2,column=1,padx=20,pady=10)\n",
    "\n",
    "completed_var=ctk.BooleanVar()\n",
    "completed_check=ctk.CTkCheckBox(tracker,text=\"Completed?\",variable=completed_var)\n",
    "completed_check.grid(row=8,column=1,padx=20,pady=20,sticky=\"w\")\n",
    "\n",
    "lbl_intensity=ctk.CTkLabel(tracker,text=\"Intensity\")\n",
    "lbl_intensity.grid(row=3,column=0,padx=10,pady=10,sticky=\"e\")\n",
    "intensity=ctk.StringVar(value=\"Medium\")\n",
    "ctk.CTkRadioButton(tracker,text=\"Low\",variable=intensity,value=\"Low\").grid(row=4,column=1,padx=20,pady=10)\n",
    "ctk.CTkRadioButton(tracker,text=\"Medium\",variable=intensity,value=\"Medium\").grid(row=5,column=1,padx=20,pady=10)\n",
    "ctk.CTkRadioButton(tracker,text=\"High\",variable=intensity,value=\"High\").grid(row=6,column=1,padx=20,pady=10)\n",
    "\n",
    "lbl_date=ctk.CTkLabel(tracker,text=\"Date\")\n",
    "lbl_date.grid(row =7,column=0,padx=10,pady=10,sticky=\"e\")\n",
    "date_entry=ctk.CTkEntry(tracker,placeholder_text=\"YYYY-MM-DD\")\n",
    "date_entry.grid(row=7,column=1,padx=20,pady=10)\n",
    "\n",
    "btn_save=ctk.CTkButton(tracker,text=\"Save Exercise\",command=save_data)\n",
    "btn_save.grid(row=9,column=0,columnspan=2,pady=20)\n",
    "\n",
    "\n",
    "\n",
    "tracker.grid_columnconfigure(0,weight=1)\n",
    "tracker.grid_columnconfigure(1,weight=2)\n",
    "\n",
    "tracker.mainloop()\n",
    "%run p1.py"
   ]
  },
  {
   "cell_type": "code",
   "execution_count": null,
   "id": "05176a53-c14a-420f-989f-a5925a7f6e63",
   "metadata": {},
   "outputs": [],
   "source": []
  }
 ],
 "metadata": {
  "kernelspec": {
   "display_name": "Python [conda env:base] *",
   "language": "python",
   "name": "conda-base-py"
  },
  "language_info": {
   "codemirror_mode": {
    "name": "ipython",
    "version": 3
   },
   "file_extension": ".py",
   "mimetype": "text/x-python",
   "name": "python",
   "nbconvert_exporter": "python",
   "pygments_lexer": "ipython3",
   "version": "3.12.4"
  }
 },
 "nbformat": 4,
 "nbformat_minor": 5
}
